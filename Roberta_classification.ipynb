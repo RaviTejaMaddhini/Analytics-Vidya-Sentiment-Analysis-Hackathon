{
 "cells": [
  {
   "cell_type": "code",
   "execution_count": 117,
   "metadata": {},
   "outputs": [
    {
     "name": "stdout",
     "output_type": "stream",
     "text": [
      "Hello\n"
     ]
    }
   ],
   "source": [
    "import tensorflow as tf\n",
    "import numpy as np \n",
    "import pandas as pd\n",
    "import os\n",
    "import tensorflow_datasets as tfds\n",
    "from tqdm import tqdm\n",
    "from transformers import RobertaTokenizer, TFRobertaForSequenceClassification\n",
    "tokenizer = RobertaTokenizer.from_pretrained('roberta-base')\n",
    "from tensorflow.keras.layers import Dense\n",
    "from tensorflow.keras.callbacks import EarlyStopping,ModelCheckpoint\n",
    "from sklearn.utils.class_weight import compute_class_weight\n",
    "import nlpaug.augmenter.word as naw\n",
    "import nlpaug.augmenter.sentence as nas\n",
    "from sklearn.model_selection import train_test_split\n",
    "print(\"Hello\")"
   ]
  },
  {
   "cell_type": "code",
   "execution_count": 119,
   "metadata": {},
   "outputs": [
    {
     "name": "stdout",
     "output_type": "stream",
     "text": [
      "(17494, 2)\n",
      "(17444, 2)\n",
      "(50, 2)\n"
     ]
    }
   ],
   "source": [
    "train_df=pd.read_csv(\"final_data/train.csv\")\n",
    "ref1=pd.read_csv(\"final_data/test.csv\")\n",
    "ref2=pd.read_csv(\"final_data/val.csv\")\n",
    "train_df=pd.concat([train_df,ref1,ref2])\n",
    "print(train_df.shape)\n",
    "train_df,test_df=train_test_split(train_df,test_size=50,shuffle=True,random_state=0)\n",
    "print(train_df.shape)\n",
    "print(test_df.shape)"
   ]
  },
  {
   "cell_type": "code",
   "execution_count": 120,
   "metadata": {},
   "outputs": [
    {
     "name": "stdout",
     "output_type": "stream",
     "text": [
      "(5688, 2)\n",
      "(23132, 2)\n"
     ]
    }
   ],
   "source": [
    "ref3=pd.read_csv(\"final_data/best_semi_supervised_data.csv\")\n",
    "print(ref3.shape)\n",
    "train_df=pd.concat([train_df,ref3])\n",
    "print(train_df.shape)"
   ]
  },
  {
   "cell_type": "code",
   "execution_count": 121,
   "metadata": {},
   "outputs": [
    {
     "name": "stdout",
     "output_type": "stream",
     "text": [
      "1    13378\n",
      "0     9754\n",
      "Name: label, dtype: int64\n",
      "[1.18576994 0.86455374]\n"
     ]
    }
   ],
   "source": [
    "print(train_df.label.value_counts())\n",
    "print(compute_class_weight('balanced',[0,1],train_df.label))"
   ]
  },
  {
   "cell_type": "code",
   "execution_count": 122,
   "metadata": {},
   "outputs": [],
   "source": [
    "# def augmentText(df):\n",
    "#     from tqdm import tqdm\n",
    "#     aug = naw.SynonymAug(aug_src='wordnet')\n",
    "#     output=[]\n",
    "#     for i in tqdm(df.text):\n",
    "#         output.append(aug.augment(i))\n",
    "#     df['text']=output\n",
    "#     return df"
   ]
  },
  {
   "cell_type": "code",
   "execution_count": 123,
   "metadata": {},
   "outputs": [],
   "source": [
    "# ref=augmentText(train_df)"
   ]
  },
  {
   "cell_type": "code",
   "execution_count": 124,
   "metadata": {},
   "outputs": [],
   "source": [
    "# train_df=pd.concat([train_df,ref])\n",
    "# print(train_df.shape)"
   ]
  },
  {
   "cell_type": "code",
   "execution_count": 125,
   "metadata": {},
   "outputs": [],
   "source": [
    "def convert_example_to_feature(x):\n",
    "    \n",
    "    length=len(x)\n",
    "    threshold=int(0.3*length)\n",
    "    x=x[-threshold:]+\" \"+x\n",
    "    bert_input = tokenizer.encode_plus(\n",
    "                        x,                      \n",
    "                        add_special_tokens = True,\n",
    "                        max_length = 300,\n",
    "                        pad_to_max_length = True,\n",
    "                        return_attention_mask = True)\n",
    "    return bert_input"
   ]
  },
  {
   "cell_type": "code",
   "execution_count": 126,
   "metadata": {},
   "outputs": [],
   "source": [
    "def map_example_to_dict(input_ids, attention_masks, label):\n",
    "    return {\n",
    "      \"input_ids\": input_ids,\n",
    "      \"attention_mask\": attention_masks\n",
    "    }, label"
   ]
  },
  {
   "cell_type": "code",
   "execution_count": 127,
   "metadata": {},
   "outputs": [],
   "source": [
    "training_dataset = (\n",
    "    tf.data.Dataset.from_tensor_slices(\n",
    "        (\n",
    "            tf.cast(train_df['text'].values, tf.string),\n",
    "            tf.cast(train_df['label'].values, tf.int32)\n",
    "        )\n",
    "    )\n",
    ")"
   ]
  },
  {
   "cell_type": "code",
   "execution_count": 128,
   "metadata": {},
   "outputs": [],
   "source": [
    "test_dataset = (\n",
    "    tf.data.Dataset.from_tensor_slices(\n",
    "        (\n",
    "            tf.cast(test_df['text'].values, tf.string),\n",
    "            tf.cast(test_df['label'].values, tf.int32)\n",
    "        )\n",
    "    )\n",
    ")"
   ]
  },
  {
   "cell_type": "code",
   "execution_count": 129,
   "metadata": {},
   "outputs": [],
   "source": [
    "def encode_examples(ds, limit=-1):\n",
    "  # prepare list, so that we can build up final TensorFlow dataset from slices.\n",
    "  input_ids_list = []\n",
    "  attention_mask_list = []\n",
    "  label_list = []\n",
    "  if (limit > 0):\n",
    "      ds = ds.take(limit)\n",
    "    \n",
    "  for review, label in tqdm(tfds.as_numpy(ds)):\n",
    "    bert_input = convert_example_to_feature(review.decode())\n",
    "  \n",
    "    input_ids_list.append(bert_input['input_ids'])\n",
    "    attention_mask_list.append(bert_input['attention_mask'])\n",
    "    label_list.append([label])\n",
    "  return tf.data.Dataset.from_tensor_slices((input_ids_list, attention_mask_list,label_list)).map(map_example_to_dict)\n"
   ]
  },
  {
   "cell_type": "code",
   "execution_count": 130,
   "metadata": {},
   "outputs": [
    {
     "name": "stderr",
     "output_type": "stream",
     "text": [
      "50it [00:00, 314.44it/s]\n"
     ]
    }
   ],
   "source": [
    "test_ds = encode_examples(test_dataset).batch(16)"
   ]
  },
  {
   "cell_type": "code",
   "execution_count": 131,
   "metadata": {},
   "outputs": [
    {
     "name": "stderr",
     "output_type": "stream",
     "text": [
      "23132it [00:33, 688.10it/s]\n"
     ]
    }
   ],
   "source": [
    "train_ds = encode_examples(training_dataset).shuffle(10000).batch(16)"
   ]
  },
  {
   "cell_type": "code",
   "execution_count": 134,
   "metadata": {},
   "outputs": [],
   "source": [
    "model = TFRobertaForSequenceClassification.from_pretrained('roberta-base')"
   ]
  },
  {
   "cell_type": "code",
   "execution_count": 135,
   "metadata": {},
   "outputs": [],
   "source": [
    "# model.config"
   ]
  },
  {
   "cell_type": "code",
   "execution_count": 160,
   "metadata": {},
   "outputs": [],
   "source": [
    "learning_rate = 1e-5\n",
    "number_of_epochs = 3\n",
    "optimizer = tf.keras.optimizers.Nadam(learning_rate=learning_rate)\n",
    "\n",
    "\n",
    "loss = tf.keras.losses.SparseCategoricalCrossentropy(from_logits=True)\n",
    "metric = tf.keras.metrics.SparseCategoricalAccuracy('accuracy')\n",
    "\n",
    "early=EarlyStopping(monitor='val_accuracy',\n",
    "                              min_delta=0,\n",
    "                              patience=3,\n",
    "                              verbose=1, mode='auto')\n",
    "checkpoint=ModelCheckpoint(\n",
    "    \"robert/models/checkpoint-{epoch:02d}-{val_accuracy:.4f}.h5\", monitor='val_accuracy', verbose=1, save_best_only=True,\n",
    "    save_weights_only=False, mode='auto', save_freq='epoch')\n",
    "\n",
    "model.compile(optimizer=optimizer, loss=loss, metrics=metric)"
   ]
  },
  {
   "cell_type": "code",
   "execution_count": 161,
   "metadata": {},
   "outputs": [],
   "source": [
    "model.load_weights(\"robert/models/checkpoint-baseline-0.9480.h5\")"
   ]
  },
  {
   "cell_type": "code",
   "execution_count": 162,
   "metadata": {},
   "outputs": [
    {
     "data": {
      "text/plain": [
       "RobertaConfig {\n",
       "  \"architectures\": [\n",
       "    \"RobertaForMaskedLM\"\n",
       "  ],\n",
       "  \"attention_probs_dropout_prob\": 0.2,\n",
       "  \"bos_token_id\": 0,\n",
       "  \"eos_token_id\": 2,\n",
       "  \"hidden_act\": \"gelu\",\n",
       "  \"hidden_dropout_prob\": 0.2,\n",
       "  \"hidden_size\": 768,\n",
       "  \"initializer_range\": 0.02,\n",
       "  \"intermediate_size\": 3072,\n",
       "  \"layer_norm_eps\": 1e-05,\n",
       "  \"max_position_embeddings\": 514,\n",
       "  \"model_type\": \"roberta\",\n",
       "  \"num_attention_heads\": 12,\n",
       "  \"num_hidden_layers\": 12,\n",
       "  \"pad_token_id\": 1,\n",
       "  \"type_vocab_size\": 1,\n",
       "  \"vocab_size\": 50265\n",
       "}"
      ]
     },
     "execution_count": 162,
     "metadata": {},
     "output_type": "execute_result"
    }
   ],
   "source": [
    "model.config"
   ]
  },
  {
   "cell_type": "code",
   "execution_count": 165,
   "metadata": {},
   "outputs": [
    {
     "name": "stdout",
     "output_type": "stream",
     "text": [
      "Epoch 1/3\n",
      "WARNING:tensorflow:Gradients do not exist for variables ['tf_roberta_for_sequence_classification_2/roberta/pooler/dense/kernel:0', 'tf_roberta_for_sequence_classification_2/roberta/pooler/dense/bias:0'] when minimizing the loss.\n",
      "WARNING:tensorflow:Gradients do not exist for variables ['tf_roberta_for_sequence_classification_2/roberta/pooler/dense/kernel:0', 'tf_roberta_for_sequence_classification_2/roberta/pooler/dense/bias:0'] when minimizing the loss.\n",
      "WARNING:tensorflow:Gradients do not exist for variables ['tf_roberta_for_sequence_classification_2/roberta/pooler/dense/kernel:0', 'tf_roberta_for_sequence_classification_2/roberta/pooler/dense/bias:0'] when minimizing the loss.\n",
      "WARNING:tensorflow:Gradients do not exist for variables ['tf_roberta_for_sequence_classification_2/roberta/pooler/dense/kernel:0', 'tf_roberta_for_sequence_classification_2/roberta/pooler/dense/bias:0'] when minimizing the loss.\n",
      "1446/1446 [==============================] - ETA: 0s - loss: 0.0750 - accuracy: 0.9733\n",
      "Epoch 00001: val_accuracy improved from -inf to 0.92000, saving model to robert/models/checkpoint-01-0.9200.h5\n",
      "1446/1446 [==============================] - 936s 647ms/step - loss: 0.0750 - accuracy: 0.9733 - val_loss: 0.3320 - val_accuracy: 0.9200\n",
      "Epoch 2/3\n",
      "1446/1446 [==============================] - ETA: 0s - loss: 0.0577 - accuracy: 0.9801\n",
      "Epoch 00002: val_accuracy improved from 0.92000 to 0.94000, saving model to robert/models/checkpoint-02-0.9400.h5\n",
      "1446/1446 [==============================] - 931s 644ms/step - loss: 0.0577 - accuracy: 0.9801 - val_loss: 0.1605 - val_accuracy: 0.9400\n",
      "Epoch 3/3\n",
      "1446/1446 [==============================] - ETA: 0s - loss: 0.0406 - accuracy: 0.9857\n",
      "Epoch 00003: val_accuracy did not improve from 0.94000\n",
      "1446/1446 [==============================] - 930s 643ms/step - loss: 0.0406 - accuracy: 0.9857 - val_loss: 0.2424 - val_accuracy: 0.9400\n"
     ]
    }
   ],
   "source": [
    "bert_history = model.fit(train_ds, epochs=number_of_epochs, validation_data=test_ds,\n",
    "                         callbacks=[early,checkpoint],class_weight={0:1.1865453,1:0.86414203})"
   ]
  },
  {
   "cell_type": "code",
   "execution_count": 166,
   "metadata": {},
   "outputs": [
    {
     "data": {
      "text/html": [
       "<div>\n",
       "<style scoped>\n",
       "    .dataframe tbody tr th:only-of-type {\n",
       "        vertical-align: middle;\n",
       "    }\n",
       "\n",
       "    .dataframe tbody tr th {\n",
       "        vertical-align: top;\n",
       "    }\n",
       "\n",
       "    .dataframe thead th {\n",
       "        text-align: right;\n",
       "    }\n",
       "</style>\n",
       "<table border=\"1\" class=\"dataframe\">\n",
       "  <thead>\n",
       "    <tr style=\"text-align: right;\">\n",
       "      <th></th>\n",
       "      <th>review_id</th>\n",
       "      <th>title</th>\n",
       "      <th>year</th>\n",
       "      <th>user_review</th>\n",
       "    </tr>\n",
       "  </thead>\n",
       "  <tbody>\n",
       "    <tr>\n",
       "      <th>0</th>\n",
       "      <td>1603</td>\n",
       "      <td>Counter-Strike: Global Offensive</td>\n",
       "      <td>2015.0</td>\n",
       "      <td>Nice graphics, new maps, weapons and models. B...</td>\n",
       "    </tr>\n",
       "    <tr>\n",
       "      <th>1</th>\n",
       "      <td>1604</td>\n",
       "      <td>Counter-Strike: Global Offensive</td>\n",
       "      <td>2018.0</td>\n",
       "      <td>I would not recommend getting into this at its...</td>\n",
       "    </tr>\n",
       "    <tr>\n",
       "      <th>2</th>\n",
       "      <td>1605</td>\n",
       "      <td>Counter-Strike: Global Offensive</td>\n",
       "      <td>2018.0</td>\n",
       "      <td>Edit 11/12/18I have tried playing CS:GO recent...</td>\n",
       "    </tr>\n",
       "    <tr>\n",
       "      <th>3</th>\n",
       "      <td>1606</td>\n",
       "      <td>Counter-Strike: Global Offensive</td>\n",
       "      <td>2015.0</td>\n",
       "      <td>The game is great. But the community is the wo...</td>\n",
       "    </tr>\n",
       "    <tr>\n",
       "      <th>4</th>\n",
       "      <td>1607</td>\n",
       "      <td>Counter-Strike: Global Offensive</td>\n",
       "      <td>2015.0</td>\n",
       "      <td>I thank TrulyRazor for buying this for me a lo...</td>\n",
       "    </tr>\n",
       "  </tbody>\n",
       "</table>\n",
       "</div>"
      ],
      "text/plain": [
       "   review_id                             title    year  \\\n",
       "0       1603  Counter-Strike: Global Offensive  2015.0   \n",
       "1       1604  Counter-Strike: Global Offensive  2018.0   \n",
       "2       1605  Counter-Strike: Global Offensive  2018.0   \n",
       "3       1606  Counter-Strike: Global Offensive  2015.0   \n",
       "4       1607  Counter-Strike: Global Offensive  2015.0   \n",
       "\n",
       "                                         user_review  \n",
       "0  Nice graphics, new maps, weapons and models. B...  \n",
       "1  I would not recommend getting into this at its...  \n",
       "2  Edit 11/12/18I have tried playing CS:GO recent...  \n",
       "3  The game is great. But the community is the wo...  \n",
       "4  I thank TrulyRazor for buying this for me a lo...  "
      ]
     },
     "execution_count": 166,
     "metadata": {},
     "output_type": "execute_result"
    }
   ],
   "source": [
    "df=pd.read_csv(\"final_data/submission_test.csv\")\n",
    "df.head()"
   ]
  },
  {
   "cell_type": "code",
   "execution_count": 167,
   "metadata": {},
   "outputs": [
    {
     "name": "stderr",
     "output_type": "stream",
     "text": [
      "100%|██████████| 8045/8045 [00:08<00:00, 972.85it/s] \n"
     ]
    }
   ],
   "source": [
    "input_data={}\n",
    "input_data['input_ids']=[]\n",
    "# input_data['token_type_ids']=[]\n",
    "input_data['attention_mask']=[]\n",
    "\n",
    "for i in tqdm(df.user_review):\n",
    "    bert_output=convert_example_to_feature(i)\n",
    "    input_data['input_ids'].append(bert_output['input_ids'])\n",
    "#     input_data['token_type_ids'].append(bert_output['token_type_ids'])\n",
    "    input_data['attention_mask'].append(bert_output['attention_mask'])"
   ]
  },
  {
   "cell_type": "code",
   "execution_count": 169,
   "metadata": {},
   "outputs": [],
   "source": [
    "input_data['input_ids']=np.array(input_data['input_ids'])\n",
    "# input_data['token_type_ids']=np.array(input_data['token_type_ids'])\n",
    "input_data['attention_mask']=np.array(input_data['attention_mask'])"
   ]
  },
  {
   "cell_type": "code",
   "execution_count": 176,
   "metadata": {},
   "outputs": [],
   "source": [
    "from tensorflow.keras.models import load_model\n",
    "model.load_weights(\"robert/models/checkpoint-baseline-0.9480.h5\")\n",
    "pred=model.predict(input_data)"
   ]
  },
  {
   "cell_type": "code",
   "execution_count": 177,
   "metadata": {},
   "outputs": [],
   "source": [
    "# max_array=pred[0].max(axis=1)\n",
    "# min_array=pred[0].min(axis=1)\n",
    "# diff=max_array-min_array\n",
    "# labels=np.argmax(pred[0],axis=1)\n",
    "\n",
    "# df['diff']=diff\n",
    "# df['new_labels']=labels\n",
    "# df.to_csv(\"final_data/semi_supervised_data.csv\",index=None)"
   ]
  },
  {
   "cell_type": "code",
   "execution_count": 178,
   "metadata": {},
   "outputs": [],
   "source": [
    "final_preds=np.argmax(pred[0],axis=1)"
   ]
  },
  {
   "cell_type": "code",
   "execution_count": 179,
   "metadata": {},
   "outputs": [],
   "source": [
    "df['user_suggestion']=final_preds"
   ]
  },
  {
   "cell_type": "code",
   "execution_count": 180,
   "metadata": {},
   "outputs": [
    {
     "data": {
      "text/html": [
       "<div>\n",
       "<style scoped>\n",
       "    .dataframe tbody tr th:only-of-type {\n",
       "        vertical-align: middle;\n",
       "    }\n",
       "\n",
       "    .dataframe tbody tr th {\n",
       "        vertical-align: top;\n",
       "    }\n",
       "\n",
       "    .dataframe thead th {\n",
       "        text-align: right;\n",
       "    }\n",
       "</style>\n",
       "<table border=\"1\" class=\"dataframe\">\n",
       "  <thead>\n",
       "    <tr style=\"text-align: right;\">\n",
       "      <th></th>\n",
       "      <th>review_id</th>\n",
       "      <th>title</th>\n",
       "      <th>year</th>\n",
       "      <th>user_review</th>\n",
       "      <th>user_suggestion</th>\n",
       "    </tr>\n",
       "  </thead>\n",
       "  <tbody>\n",
       "    <tr>\n",
       "      <th>0</th>\n",
       "      <td>1603</td>\n",
       "      <td>Counter-Strike: Global Offensive</td>\n",
       "      <td>2015.0</td>\n",
       "      <td>Nice graphics, new maps, weapons and models. B...</td>\n",
       "      <td>1</td>\n",
       "    </tr>\n",
       "    <tr>\n",
       "      <th>1</th>\n",
       "      <td>1604</td>\n",
       "      <td>Counter-Strike: Global Offensive</td>\n",
       "      <td>2018.0</td>\n",
       "      <td>I would not recommend getting into this at its...</td>\n",
       "      <td>0</td>\n",
       "    </tr>\n",
       "    <tr>\n",
       "      <th>2</th>\n",
       "      <td>1605</td>\n",
       "      <td>Counter-Strike: Global Offensive</td>\n",
       "      <td>2018.0</td>\n",
       "      <td>Edit 11/12/18I have tried playing CS:GO recent...</td>\n",
       "      <td>0</td>\n",
       "    </tr>\n",
       "    <tr>\n",
       "      <th>3</th>\n",
       "      <td>1606</td>\n",
       "      <td>Counter-Strike: Global Offensive</td>\n",
       "      <td>2015.0</td>\n",
       "      <td>The game is great. But the community is the wo...</td>\n",
       "      <td>0</td>\n",
       "    </tr>\n",
       "    <tr>\n",
       "      <th>4</th>\n",
       "      <td>1607</td>\n",
       "      <td>Counter-Strike: Global Offensive</td>\n",
       "      <td>2015.0</td>\n",
       "      <td>I thank TrulyRazor for buying this for me a lo...</td>\n",
       "      <td>1</td>\n",
       "    </tr>\n",
       "    <tr>\n",
       "      <th>...</th>\n",
       "      <td>...</td>\n",
       "      <td>...</td>\n",
       "      <td>...</td>\n",
       "      <td>...</td>\n",
       "      <td>...</td>\n",
       "    </tr>\n",
       "    <tr>\n",
       "      <th>8040</th>\n",
       "      <td>25198</td>\n",
       "      <td>GUNS UP!</td>\n",
       "      <td>2017.0</td>\n",
       "      <td>Early Access ReviewGuns UP!Positive: Good Idea...</td>\n",
       "      <td>1</td>\n",
       "    </tr>\n",
       "    <tr>\n",
       "      <th>8041</th>\n",
       "      <td>25199</td>\n",
       "      <td>GUNS UP!</td>\n",
       "      <td>2018.0</td>\n",
       "      <td>After 170 hrs, my review. DO NOT SPEND ANY MON...</td>\n",
       "      <td>1</td>\n",
       "    </tr>\n",
       "    <tr>\n",
       "      <th>8042</th>\n",
       "      <td>25200</td>\n",
       "      <td>GUNS UP!</td>\n",
       "      <td>2018.0</td>\n",
       "      <td>Pros:-Fun GameplayCons: -Micro %$#*ing transac...</td>\n",
       "      <td>0</td>\n",
       "    </tr>\n",
       "    <tr>\n",
       "      <th>8043</th>\n",
       "      <td>25201</td>\n",
       "      <td>GUNS UP!</td>\n",
       "      <td>2018.0</td>\n",
       "      <td>Actualy saucy, I definetly suggest to players ...</td>\n",
       "      <td>1</td>\n",
       "    </tr>\n",
       "    <tr>\n",
       "      <th>8044</th>\n",
       "      <td>25202</td>\n",
       "      <td>GUNS UP!</td>\n",
       "      <td>NaN</td>\n",
       "      <td>see people that play for 30 minutes and then s...</td>\n",
       "      <td>1</td>\n",
       "    </tr>\n",
       "  </tbody>\n",
       "</table>\n",
       "<p>8045 rows × 5 columns</p>\n",
       "</div>"
      ],
      "text/plain": [
       "      review_id                             title    year  \\\n",
       "0          1603  Counter-Strike: Global Offensive  2015.0   \n",
       "1          1604  Counter-Strike: Global Offensive  2018.0   \n",
       "2          1605  Counter-Strike: Global Offensive  2018.0   \n",
       "3          1606  Counter-Strike: Global Offensive  2015.0   \n",
       "4          1607  Counter-Strike: Global Offensive  2015.0   \n",
       "...         ...                               ...     ...   \n",
       "8040      25198                          GUNS UP!  2017.0   \n",
       "8041      25199                          GUNS UP!  2018.0   \n",
       "8042      25200                          GUNS UP!  2018.0   \n",
       "8043      25201                          GUNS UP!  2018.0   \n",
       "8044      25202                          GUNS UP!     NaN   \n",
       "\n",
       "                                            user_review  user_suggestion  \n",
       "0     Nice graphics, new maps, weapons and models. B...                1  \n",
       "1     I would not recommend getting into this at its...                0  \n",
       "2     Edit 11/12/18I have tried playing CS:GO recent...                0  \n",
       "3     The game is great. But the community is the wo...                0  \n",
       "4     I thank TrulyRazor for buying this for me a lo...                1  \n",
       "...                                                 ...              ...  \n",
       "8040  Early Access ReviewGuns UP!Positive: Good Idea...                1  \n",
       "8041  After 170 hrs, my review. DO NOT SPEND ANY MON...                1  \n",
       "8042  Pros:-Fun GameplayCons: -Micro %$#*ing transac...                0  \n",
       "8043  Actualy saucy, I definetly suggest to players ...                1  \n",
       "8044  see people that play for 30 minutes and then s...                1  \n",
       "\n",
       "[8045 rows x 5 columns]"
      ]
     },
     "execution_count": 180,
     "metadata": {},
     "output_type": "execute_result"
    }
   ],
   "source": [
    "df"
   ]
  },
  {
   "cell_type": "code",
   "execution_count": 181,
   "metadata": {},
   "outputs": [],
   "source": [
    "output=df[['review_id','user_suggestion']]\n",
    "output.to_csv(\"final_data/final_submit.csv\",index=None)"
   ]
  },
  {
   "cell_type": "code",
   "execution_count": null,
   "metadata": {},
   "outputs": [],
   "source": []
  }
 ],
 "metadata": {
  "kernelspec": {
   "display_name": "Python 3",
   "language": "python",
   "name": "python3"
  },
  "language_info": {
   "codemirror_mode": {
    "name": "ipython",
    "version": 3
   },
   "file_extension": ".py",
   "mimetype": "text/x-python",
   "name": "python",
   "nbconvert_exporter": "python",
   "pygments_lexer": "ipython3",
   "version": "3.7.6"
  }
 },
 "nbformat": 4,
 "nbformat_minor": 4
}
